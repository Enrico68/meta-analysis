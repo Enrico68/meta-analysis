{
 "cells": [
  {
   "cell_type": "markdown",
   "id": "d4f2ae3e",
   "metadata": {},
   "source": [
    "## Introduzione"
   ]
  },
  {
   "cell_type": "markdown",
   "id": "c4119509",
   "metadata": {},
   "source": [
    "La Figura \\@ref(fig:fig1)  illustra una meta-analisi che mostra l'impatto delle statine ad alto dosaggio rispetto a quelle a dosaggio standard nella prevenzione della morte e dell'infarto miocardico (MI). Questa analisi è adattata da quella riportata da Cannon et al. e pubblicata sul Journalof the American College of Cardiology (2006). Il nostro obiettivo nel presentarla qui è quello di introdurre i vari elementi di una meta-analisi (la dimensione dell'effetto per ogni studio, il peso assegnato a ciascuna dimensione dell'effetto, la stima dell'effetto di sintesi e così via) e mostrare dove ciascuno si inserisce nello schema più ampio. Nei capitoli successivi, ognuno di questi elementi verrà esplorato in dettaglio."
   ]
  },
  {
   "cell_type": "code",
   "execution_count": 1,
   "id": "3694d771",
   "metadata": {
    "Rmd_chunk_options": "fig1, echo= FALSE, out.width='100%', fig.cap='Dosaggio elevato rispetto al dosaggio standard di statine (adattato da [@Cannon2006Aug]).'",
    "kernel": "R",
    "tags": [
     "report_cell"
    ],
    "vscode": {
     "languageId": "r"
    }
   },
   "outputs": [
    {
     "data": {
      "text/plain": [
       "[1] \"Figures/Screenshot 2023-09-13 alle 10.55.41.png\"\n",
       "attr(,\"class\")\n",
       "[1] \"knit_image_paths\" \"knit_asis\"       "
      ]
     },
     "metadata": {},
     "output_type": "display_data"
    }
   ],
   "source": [
    "knitr::include_graphics('Figures/Screenshot 2023-09-13 alle 10.55.41.png')"
   ]
  },
  {
   "cell_type": "markdown",
   "id": "249eb4df",
   "metadata": {},
   "source": [
    "L'obiettivo di questa presentazione è quello d'introdurre i vari elementi di una meta-analisi (la dimensione dell'effetto per ogni studio, il peso assegnato a ogni dimensione dell'effetto, la stima dell'effetto di sintesi e così via) e di mostrare dove ciascuno di essi si inserisce nello schema più ampio. Nei capitoli successivi, ognuno di questi elementi verrà esplorato in dettaglio."
   ]
  },
  {
   "cell_type": "markdown",
   "id": "b72c4eda",
   "metadata": {},
   "source": [
    "## Studi individuali"
   ]
  },
  {
   "cell_type": "markdown",
   "id": "a90da0e8",
   "metadata": {},
   "source": [
    "Le prime quattro righe di questo grafico rappresentano i quattro studi. Per ciascuno di essi, a sinistra è riportato il nome dello studio, seguito dalla dimensione dell'effetto, dal peso relativo assegnato allo studio per il calcolo dell'effetto sintetico e dal valore p. La dimensione dell'effetto e il peso sono mostrati anche in modo schematico."
   ]
  }
 ],
 "metadata": {
  "Rmd_chunk_options": {
   "author": "Enrico Pirani",
   "biblio-style": "apalike",
   "bibliography": "references.bib",
   "date": "2 Settembre 2023",
   "language": "it",
   "output": {
    "bookdown::pdf_document2": {
     "keep_tex": true
    },
    "bookdown::tufte_html2": "default",
    "bookdown::word_document2": {
     "toc": true
    }
   },
   "title": "Come la metanalisi funziona"
  },
  "kernelspec": {
   "display_name": "R",
   "language": "R",
   "name": "ir"
  },
  "language_info": {
   "codemirror_mode": "r",
   "file_extension": ".r",
   "mimetype": "text/x-r-source",
   "name": "R",
   "pygments_lexer": "r",
   "version": "4.3.1"
  }
 },
 "nbformat": 4,
 "nbformat_minor": 5
}
