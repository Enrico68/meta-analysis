{
 "cells": [
  {
   "cell_type": "markdown",
   "id": "5f3904a7",
   "metadata": {},
   "source": [
    "---\n",
    "title: \"Cripto_updated\" \n",
    "author: \"Enrico Pirani\" \n",
    "datte: \"2023-09-05\"      \n",
    "output:\n",
    "  tufte::tufte_html: default\n",
    "  tufte::tufte_handout: default\n",
    "---\n",
    "\n",
    "\n",
    "\n",
    "## Passo 1: Importazione delle librerie necessarie\n",
    "\n",
    "In primo luogo, per eseguire il nostro processo di creazione di\n",
    "strategie di trading, dobbiamo importare le librerie necessarie nel\n",
    "nostro ambiente. In tutto questo processo, utilizzeremo alcune delle\n",
    "librerie finanziarie più popolari in R, ovvero Quantmod, TTR e\n",
    "Performance Analytics. Utilizzando la funzione library in R, possiamo\n",
    "importare i nostri pacchetti richiesti."
   ]
  },
  {
   "cell_type": "code",
   "execution_count": null,
   "id": "d76eea98",
   "metadata": {},
   "outputs": [],
   "source": [
    "%%R\n",
    "library(quantmod)\n",
    "library(TTR)\n",
    "library(PerformanceAnalytics)\n",
    "library(httpgd)"
   ]
  },
  {
   "cell_type": "markdown",
   "id": "128ab700",
   "metadata": {},
   "source": [
    "## Passaggio 2: Estrazione dei dati da Yahoo e Plotting di base\n",
    "\n",
    "Durante tutto il nostro processo, lavoreremo con i dati del prezzo delle\n",
    "cryptovalute Bitcoin, Ethereum, Binance, Cardano e XRP. Estraiamo i dati\n",
    "di queste valute da Yahoo in R."
   ]
  },
  {
   "cell_type": "code",
   "execution_count": null,
   "id": "01810084",
   "metadata": {},
   "outputs": [],
   "source": [
    "%%R\n",
    "getSymbols(\"BTC-USD\", src = \"yahoo\", from = \"2019-01-01\")\n",
    "getSymbols(\"ETH-USD\", src = \"yahoo\", from = \"2019-01-01\")\n",
    "getSymbols(\"BNB-USD\", src = \"yahoo\", from = \"2019-01-01\")\n",
    "getSymbols(\"ADA-USD\", src = \"yahoo\", from = \"2019-01-01\")\n",
    "getSymbols(\"XRP-USD\", src = \"yahoo\", from = \"2019-01-01\")"
   ]
  },
  {
   "cell_type": "markdown",
   "id": "c614e32f",
   "metadata": {},
   "source": [
    "Ora facciamo un po' di visualizzazione dei nostri dati estratti! Il\n",
    "seguente codice produce un grafico a barre finanziario dei prezzi delle\n",
    "azioni insieme al volume."
   ]
  },
  {
   "cell_type": "code",
   "execution_count": null,
   "id": "0ccb27ed",
   "metadata": {},
   "outputs": [],
   "source": [
    "%%R\n",
    "barChart(`BTC-USD`, theme = chartTheme('black'))\n",
    "barChart(`BNB-USD`,theme = chartTheme('black'))\n",
    "barChart(`ETH-USD`,theme = chartTheme('black'))\n",
    "barChart(`ADA-USD`,theme = chartTheme('black'))\n",
    "barChart(`XRP-USD`,theme = chartTheme('black'))"
   ]
  },
  {
   "cell_type": "markdown",
   "id": "6560ca50",
   "metadata": {},
   "source": [
    "## Creazione di indicatori tecnici\n",
    "\n",
    "Ci sono molti indicatori tecnici utilizzati per l'analisi finanziaria ma, per la nostra analisi, utilizzeremo e creeremo sei dei più famosi indicatori tecnici, ovvero: Media mobile semplice (SMA), Parabolic Stop And Reverse (SAR), Indice del canale delle materie prime (CCI), Tasso di variazione (ROC), Indice del momento stocastico (SMI) e infine Williams %R. Facciamolo!\n",
    "\n",
    "### Media mobile semplice (SMA):\n",
    "\n",
    "L'intervallo di tempo standard che prenderemo è di 20 giorni SMA e 50 giorni SMA. Ma non ci sono restrizioni nell'uso di qualsiasi intervallo di tempo.\n",
    "\n",
    "Il seguente codice calcolerà la SMA di tre aziende per 20 giorni e 50 giorni insieme ad un grafico:"
   ]
  },
  {
   "cell_type": "code",
   "execution_count": null,
   "id": "8964d779",
   "metadata": {},
   "outputs": [],
   "source": [
    "%%R\n",
    "BTC <- `BTC-USD`\n",
    "ETH <- `ETH-USD`\n",
    "BNB <- `BNB-USD`\n",
    "ADA <- `ADA-USD`\n",
    "XRP <- `XRP-USD`"
   ]
  },
  {
   "cell_type": "code",
   "execution_count": null,
   "id": "0490a9ab",
   "metadata": {},
   "outputs": [],
   "source": [
    "%%R\n",
    "# 1. BTC-USD\n",
    "sma50_btc <- SMA(BTC$`BTC-USD.Close`, n = 50)\n",
    "sma100_btc <- SMA(BTC$`BTC-USD.Close`, n = 100)\n",
    "lineChart(`BTC-USD`, theme = chartTheme('black'))\n",
    "addSMA(n = 50, col = 'blue')\n",
    "addSMA(n = 100, col = 'orange')\n",
    "legend('left', col = c('green','blue','orange'),\n",
    "       legend = c('BTC-USD','SMA50','SMA100'), lty = 1, bty = 'n',\n",
    "       text.col = 'white', cex = 0.8)"
   ]
  },
  {
   "cell_type": "code",
   "execution_count": null,
   "id": "f91f7b4e",
   "metadata": {},
   "outputs": [],
   "source": [
    "%%R\n",
    "# 2. ETH-USD\n",
    "sma50_btc <- SMA(ETH$`ETH-USD.Close`, n = 50)\n",
    "sma100_btc <- SMA(ETH$`ETH-USD.Close`, n = 100)\n",
    "lineChart(`ETH-USD`, theme = chartTheme('black'))\n",
    "addSMA(n = 50, col = 'blue')\n",
    "addSMA(n = 100, col = 'orange')\n",
    "legend('left', col = c('green','blue','orange'),\n",
    "       legend = c('ETH-USD','SMA50','SMA100'), lty = 1, bty = 'n',\n",
    "       text.col = 'white', cex = 0.8)"
   ]
  },
  {
   "cell_type": "code",
   "execution_count": null,
   "id": "8abeedd5",
   "metadata": {},
   "outputs": [],
   "source": [
    "%%R\n",
    "sma50_btc <- SMA(ADA$`ADA-USD.Close`, n = 50)\n",
    "sma100_btc <- SMA(ADA$`ADA-USD.Close`, n = 100)\n",
    "lineChart(`ADA-USD`, theme = chartTheme('black'))\n",
    "addSMA(n = 50, col = 'blue')\n",
    "addSMA(n = 100, col = 'orange')\n",
    "legend('left', col = c('green','blue','orange'),\n",
    "       legend = c('ADA-USD','SMA50','SMA100'), lty = 1, bty = 'n',\n",
    "       text.col = 'white', cex = 0.8)"
   ]
  },
  {
   "cell_type": "code",
   "execution_count": null,
   "id": "97b32113",
   "metadata": {},
   "outputs": [],
   "source": [
    "%%R\n",
    "sma50_btc <- SMA(BNB$`BNB-USD.Close`, n = 50)\n",
    "sma100_btc <- SMA(BNB$`BNB-USD.Close`, n = 100)\n",
    "lineChart(`BNB-USD`, theme = chartTheme('black'))\n",
    "addSMA(n = 50, col = 'blue')\n",
    "addSMA(n = 100, col = 'orange')\n",
    "legend('left', col = c('green','blue','orange'),\n",
    "       legend = c('BNB-USD','SMA50','SMA100'), lty = 1, bty = 'n',\n",
    "       text.col = 'white', cex = 0.8)"
   ]
  },
  {
   "cell_type": "code",
   "execution_count": null,
   "id": "506a23e4",
   "metadata": {},
   "outputs": [],
   "source": [
    "%%R\n",
    "sma50_btc <- SMA(XRP$`XRP-USD.Close`, n = 50)\n",
    "sma100_btc <- SMA(XRP$`XRP-USD.Close`, n = 100)\n",
    "lineChart(`XRP-USD`, theme = chartTheme('black'))\n",
    "addSMA(n = 50, col = 'blue')\n",
    "addSMA(n = 100, col = 'orange')\n",
    "legend('left', col = c('green','blue','orange'),\n",
    "       legend = c('BNB-USD','SMA50','SMA100'), lty = 1, bty = 'n',\n",
    "       text.col = 'white', cex = 0.8)"
   ]
  },
  {
   "cell_type": "markdown",
   "id": "620d8043",
   "metadata": {},
   "source": [
    "### Indice del Canale delle Materie Prime (CCI):\n",
    "\n",
    "Per calcolare il CCI, dobbiamo considerare i prezzi giornalieri di massimo, minimo e chiusura delle aziende insieme a un periodo di tempo specificato e un valore costante. In questo passaggio, prenderemo 20 giorni come periodo di tempo e 0,015 come valore costante.\n",
    "\n",
    "Il seguente codice calcolerà il CCI delle aziende insieme a un grafico:"
   ]
  },
  {
   "cell_type": "code",
   "execution_count": null,
   "id": "e49e83a0",
   "metadata": {},
   "outputs": [],
   "source": [
    "%%R\n",
    "# 1.BTC \n",
    "cci_BTC <- CCI(HLC(BTC), n = 20, c = 0.015)\n",
    "barChart(BTC, theme = 'black')\n",
    "addCCI(n = 20, c = 0.015)\n",
    "\n",
    "# 2.ETH \n",
    "cci_eth <- CCI(HLC(ETH), n = 20, c = 0.015)\n",
    "barChart(ETH, theme = 'black')\n",
    "addCCI(n = 20, c = 0.015)\n",
    "\n",
    "# 3.BNB \n",
    "cci_BNB <- CCI(HLC(BNB), n = 20, c = 0.015)\n",
    "barChart(BNB, theme = 'black')\n",
    "addCCI(n = 20, c = 0.015)\n",
    "\n",
    "# 4. XRP\n",
    "\n",
    "cci_XRP <- CCI(HLC(XRP), n = 20, c = 0.015)\n",
    "barChart(XRP, theme = 'black')\n",
    "addCCI(n = 20, c = 0.015)\n",
    "\n",
    "# 5.ADA\n",
    "\n",
    "cci_ADA <- CCI(HLC(ADA), n = 20, c = 0.015)\n",
    "barChart(ADA, theme = 'black')\n",
    "addCCI(n = 20, c = 0.015)"
   ]
  },
  {
   "cell_type": "markdown",
   "id": "7a3fd50d",
   "metadata": {},
   "source": [
    "### Tasso di variazione (ROC)\n",
    "\n",
    "Per calcolare il ROC, dobbiamo considerare un intervallo di tempo specificato e non ci sono restrizioni nell'utilizzare qualsiasi periodo. In questo passaggio, prenderemo 25 giorni come periodo di tempo.\n",
    "\n",
    "Il codice seguente calcolerà il ROC delle aziende insieme a un grafico:"
   ]
  },
  {
   "cell_type": "code",
   "execution_count": null,
   "id": "77638240",
   "metadata": {},
   "outputs": [],
   "source": [
    "%%R\n",
    "# 1. BTC\n",
    "roc_btc <- ROC(BTC$`BTC-USD.Close`, n = 25)\n",
    "barChart(BTC, theme = 'black')\n",
    "addROC(n = 25)\n",
    "legend('left', col = 'red', legend = 'ROC(25)', lty = 1, bty = 'n',\n",
    "       text.col = 'white', cex = 0.8)\n",
    "\n",
    "roc_ETH <- ROC(ETH$`ETH-USD.Close`, n = 25)\n",
    "barChart(ETH, theme = 'black')\n",
    "addROC(n = 25)\n",
    "legend('left', col = 'red', legend = 'ROC(25)', lty = 1, bty = 'n',\n",
    "       text.col = 'white', cex = 0.8)\n",
    "\n",
    "\n",
    "roc_BNB <- ROC(BNB$`BNB-USD.Close`, n = 25)\n",
    "barChart(BNB, theme = 'black')\n",
    "addROC(n = 25)\n",
    "legend('left', col = 'red', legend = 'ROC(25)', lty = 1, bty = 'n',\n",
    "       text.col = 'white', cex = 0.8)\n",
    "\n",
    "\n",
    "roc_XRP <- ROC(XRP$`XRP-USD.Close`, n = 25)\n",
    "barChart(XRP, theme = 'black')\n",
    "addROC(n = 25)\n",
    "legend('left', col = 'red', legend = 'ROC(25)', lty = 1, bty = 'n',\n",
    "       text.col = 'white', cex = 0.8)\n",
    "\n",
    "\n",
    "roc_ADA <- ROC(ADA$`ADA-USD.Close`, n = 25)\n",
    "barChart(ADA, theme = 'black')\n",
    "addROC(n = 25)\n",
    "legend('left', col = 'red', legend = 'ROC(25)', lty = 1, bty = 'n',\n",
    "       text.col = 'white', cex = 0.8)"
   ]
  }
 ],
 "metadata": {},
 "nbformat": 4,
 "nbformat_minor": 5
}
