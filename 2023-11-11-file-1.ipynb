{
 "cells": [
  {
   "cell_type": "code",
   "execution_count": 3,
   "metadata": {},
   "outputs": [
    {
     "name": "stdout",
     "output_type": "stream",
     "text": [
      "Defaulting to user installation because normal site-packages is not writeable\n",
      "Requirement already satisfied: pyreadstat in /usr/local/lib/python3.10/dist-packages (1.1.9)\n",
      "Requirement already satisfied: pandas>=1.2.0 in /home/user/.local/lib/python3.10/site-packages (from pyreadstat) (1.5.3)\n",
      "Requirement already satisfied: python-dateutil>=2.8.1 in /usr/local/lib/python3.10/dist-packages (from pandas>=1.2.0->pyreadstat) (2.8.2)\n",
      "Requirement already satisfied: pytz>=2020.1 in /usr/local/lib/python3.10/dist-packages (from pandas>=1.2.0->pyreadstat) (2023.3.post1)\n",
      "Requirement already satisfied: numpy>=1.21.0 in /usr/local/lib/python3.10/dist-packages (from pandas>=1.2.0->pyreadstat) (1.22.4)\n",
      "Requirement already satisfied: six>=1.5 in /usr/local/lib/python3.10/dist-packages (from python-dateutil>=2.8.1->pandas>=1.2.0->pyreadstat) (1.16.0)\n",
      "\n",
      "\u001b[1m[\u001b[0m\u001b[34;49mnotice\u001b[0m\u001b[1;39;49m]\u001b[0m\u001b[39;49m A new release of pip is available: \u001b[0m\u001b[31;49m23.3\u001b[0m\u001b[39;49m -> \u001b[0m\u001b[32;49m23.3.1\u001b[0m\n",
      "\u001b[1m[\u001b[0m\u001b[34;49mnotice\u001b[0m\u001b[1;39;49m]\u001b[0m\u001b[39;49m To update, run: \u001b[0m\u001b[32;49mpython3 -m pip install --upgrade pip\u001b[0m\n",
      "Note: you may need to restart the kernel to use updated packages.\n"
     ]
    }
   ],
   "source": [
    "%pip install pyreadstat"
   ]
  },
  {
   "cell_type": "code",
   "execution_count": 1,
   "metadata": {},
   "outputs": [],
   "source": [
    "import pandas as pd "
   ]
  },
  {
   "cell_type": "code",
   "execution_count": 2,
   "metadata": {},
   "outputs": [
    {
     "name": "stdout",
     "output_type": "stream",
     "text": [
      "/usr/bin/sh: 1: Syntax error: \"(\" unexpected\r\n"
     ]
    }
   ],
   "source": [
    "ls()"
   ]
  },
  {
   "cell_type": "code",
   "execution_count": 3,
   "metadata": {},
   "outputs": [
    {
     "name": "stdout",
     "output_type": "stream",
     "text": [
      " 2023-09-12-file-1.term       _bookdown.yml\t       cripto_update.pdf\r\n",
      " 2023-10-13-file-1.term       _extensions\t       cripto_update_files\r\n",
      " 2023-11-01-file-1.ipynb      capitolo1.html\t       first_steps.ipynb\r\n",
      " 2023-11-01-terminal-1.term   capitolo1.ipynb\t       intro.rmd\r\n",
      " 2023-11-06-file-1.term       capitolo1.rmd\t       meta-analisi.Rproj\r\n",
      " 2023-11-11-file-1.ipynb      capitolo1_files\t       references.bib\r\n",
      " Figures\t\t     'ch02_dogwalking 2.sav'   references.bib.blg\r\n",
      " README.md\t\t      cripto_update.Rmd        references_bibertool.bib\r\n",
      " Speed_and_distance.Rmd       cripto_update.html       state.csv\r\n",
      " Statistica_Python.ipynb      cripto_update.ipynb\r\n"
     ]
    }
   ],
   "source": [
    "!ls"
   ]
  },
  {
   "cell_type": "code",
   "execution_count": 4,
   "metadata": {},
   "outputs": [
    {
     "name": "stdout",
     "output_type": "stream",
     "text": [
      "/home/user/meta-analysis\r\n"
     ]
    }
   ],
   "source": [
    "!pwd"
   ]
  },
  {
   "cell_type": "code",
   "execution_count": 8,
   "metadata": {},
   "outputs": [],
   "source": [
    "dataset = pd.read_spss(\"ch02_dogwalking 2.sav\")"
   ]
  },
  {
   "cell_type": "code",
   "execution_count": 10,
   "metadata": {},
   "outputs": [
    {
     "data": {
      "text/html": [
       "<div>\n",
       "<style scoped>\n",
       "    .dataframe tbody tr th:only-of-type {\n",
       "        vertical-align: middle;\n",
       "    }\n",
       "\n",
       "    .dataframe tbody tr th {\n",
       "        vertical-align: top;\n",
       "    }\n",
       "\n",
       "    .dataframe thead th {\n",
       "        text-align: right;\n",
       "    }\n",
       "</style>\n",
       "<table border=\"1\" class=\"dataframe\">\n",
       "  <thead>\n",
       "    <tr style=\"text-align: right;\">\n",
       "      <th></th>\n",
       "      <th>WALKCOND</th>\n",
       "      <th>ENCNTRS</th>\n",
       "    </tr>\n",
       "  </thead>\n",
       "  <tbody>\n",
       "    <tr>\n",
       "      <th>0</th>\n",
       "      <td>1.0</td>\n",
       "      <td>9.0</td>\n",
       "    </tr>\n",
       "    <tr>\n",
       "      <th>1</th>\n",
       "      <td>1.0</td>\n",
       "      <td>7.0</td>\n",
       "    </tr>\n",
       "    <tr>\n",
       "      <th>2</th>\n",
       "      <td>1.0</td>\n",
       "      <td>10.0</td>\n",
       "    </tr>\n",
       "    <tr>\n",
       "      <th>3</th>\n",
       "      <td>1.0</td>\n",
       "      <td>12.0</td>\n",
       "    </tr>\n",
       "    <tr>\n",
       "      <th>4</th>\n",
       "      <td>1.0</td>\n",
       "      <td>6.0</td>\n",
       "    </tr>\n",
       "    <tr>\n",
       "      <th>5</th>\n",
       "      <td>1.0</td>\n",
       "      <td>8.0</td>\n",
       "    </tr>\n",
       "    <tr>\n",
       "      <th>6</th>\n",
       "      <td>2.0</td>\n",
       "      <td>4.0</td>\n",
       "    </tr>\n",
       "    <tr>\n",
       "      <th>7</th>\n",
       "      <td>2.0</td>\n",
       "      <td>5.0</td>\n",
       "    </tr>\n",
       "    <tr>\n",
       "      <th>8</th>\n",
       "      <td>2.0</td>\n",
       "      <td>3.0</td>\n",
       "    </tr>\n",
       "    <tr>\n",
       "      <th>9</th>\n",
       "      <td>2.0</td>\n",
       "      <td>6.0</td>\n",
       "    </tr>\n",
       "    <tr>\n",
       "      <th>10</th>\n",
       "      <td>2.0</td>\n",
       "      <td>5.0</td>\n",
       "    </tr>\n",
       "    <tr>\n",
       "      <th>11</th>\n",
       "      <td>2.0</td>\n",
       "      <td>1.0</td>\n",
       "    </tr>\n",
       "  </tbody>\n",
       "</table>\n",
       "</div>"
      ],
      "text/plain": [
       "    WALKCOND  ENCNTRS\n",
       "0        1.0      9.0\n",
       "1        1.0      7.0\n",
       "2        1.0     10.0\n",
       "3        1.0     12.0\n",
       "4        1.0      6.0\n",
       "5        1.0      8.0\n",
       "6        2.0      4.0\n",
       "7        2.0      5.0\n",
       "8        2.0      3.0\n",
       "9        2.0      6.0\n",
       "10       2.0      5.0\n",
       "11       2.0      1.0"
      ]
     },
     "execution_count": 10,
     "metadata": {},
     "output_type": "execute_result"
    }
   ],
   "source": [
    "dataset"
   ]
  },
  {
   "cell_type": "code",
   "execution_count": 0,
   "metadata": {},
   "outputs": [],
   "source": []
  },
  {
   "cell_type": "markdown",
   "metadata": {},
   "source": [
    "The following cell was generated by GPT-3.5 using this user prompt:\n",
    "\n",
    "> I want to create a dataset with two variable walking_with_dogs and waolking_without_dogs using pandas \n",
    "\n",
    "\n",
    " "
   ]
  },
  {
   "cell_type": "markdown",
   "metadata": {},
   "source": [
    "``python\n",
    "import pandas as pd\n",
    "\n",
    "# Create a DataFrame named \"dataset\" with columns \"walking_with_dogs\" and \"walking_without_dogs\"\n",
    "\n",
    "dataset = pd.DataFrame({\n",
    "    \"walking_with_dogs\": [],\n",
    "    \"walking_without_dogs\": []\n",
    "})\n",
    "\n",
    "```\n",
    "%whos\n",
    "```\n",
    "\n",
    "````\n",
    "\n"
   ]
  },
  {
   "cell_type": "code",
   "execution_count": 11,
   "metadata": {},
   "outputs": [
    {
     "name": "stdout",
     "output_type": "stream",
     "text": [
      "Variable     Type         Data/Info\n",
      "-----------------------------------\n",
      "dataset      DataFrame        WALKCOND  ENCNTRS\\n0 <...>.0\\n11       2.0      1.0\n",
      "matplotlib   module       <module 'matplotlib' from<...>/matplotlib/__init__.py'>\n",
      "os           module       <module 'os' from '/usr/lib/python3.10/os.py'>\n",
      "pd           module       <module 'pandas' from '/h<...>ages/pandas/__init__.py'>\n"
     ]
    }
   ],
   "source": [
    "%whos"
   ]
  },
  {
   "cell_type": "code",
   "execution_count": 12,
   "metadata": {},
   "outputs": [],
   "source": [
    "del dataset"
   ]
  },
  {
   "cell_type": "code",
   "execution_count": 5,
   "metadata": {},
   "outputs": [],
   "source": [
    "dataset=pd.DataFrame({\"walking_with_dogs\":[9,7,10,12,6,8],\"walking_without_dogs\":[4,5,3,6,5,1]})"
   ]
  },
  {
   "cell_type": "code",
   "execution_count": 6,
   "metadata": {},
   "outputs": [
    {
     "data": {
      "text/html": [
       "<div>\n",
       "<style scoped>\n",
       "    .dataframe tbody tr th:only-of-type {\n",
       "        vertical-align: middle;\n",
       "    }\n",
       "\n",
       "    .dataframe tbody tr th {\n",
       "        vertical-align: top;\n",
       "    }\n",
       "\n",
       "    .dataframe thead th {\n",
       "        text-align: right;\n",
       "    }\n",
       "</style>\n",
       "<table border=\"1\" class=\"dataframe\">\n",
       "  <thead>\n",
       "    <tr style=\"text-align: right;\">\n",
       "      <th></th>\n",
       "      <th>walking_with_dogs</th>\n",
       "      <th>walking_without_dogs</th>\n",
       "    </tr>\n",
       "  </thead>\n",
       "  <tbody>\n",
       "    <tr>\n",
       "      <th>0</th>\n",
       "      <td>9</td>\n",
       "      <td>4</td>\n",
       "    </tr>\n",
       "    <tr>\n",
       "      <th>1</th>\n",
       "      <td>7</td>\n",
       "      <td>5</td>\n",
       "    </tr>\n",
       "    <tr>\n",
       "      <th>2</th>\n",
       "      <td>10</td>\n",
       "      <td>3</td>\n",
       "    </tr>\n",
       "    <tr>\n",
       "      <th>3</th>\n",
       "      <td>12</td>\n",
       "      <td>6</td>\n",
       "    </tr>\n",
       "    <tr>\n",
       "      <th>4</th>\n",
       "      <td>6</td>\n",
       "      <td>5</td>\n",
       "    </tr>\n",
       "    <tr>\n",
       "      <th>5</th>\n",
       "      <td>8</td>\n",
       "      <td>1</td>\n",
       "    </tr>\n",
       "  </tbody>\n",
       "</table>\n",
       "</div>"
      ],
      "text/plain": [
       "   walking_with_dogs  walking_without_dogs\n",
       "0                  9                     4\n",
       "1                  7                     5\n",
       "2                 10                     3\n",
       "3                 12                     6\n",
       "4                  6                     5\n",
       "5                  8                     1"
      ]
     },
     "execution_count": 6,
     "metadata": {},
     "output_type": "execute_result"
    }
   ],
   "source": [
    "dataset"
   ]
  },
  {
   "cell_type": "code",
   "execution_count": 0,
   "metadata": {},
   "outputs": [],
   "source": []
  },
  {
   "cell_type": "markdown",
   "metadata": {},
   "source": [
    "The following cell was generated by GPT-3.5 using this user prompt:\n",
    "\n",
    "> I want to get a summary of descriptive statistics for this dataset. That is I want to get the descriptive statistics for the walking with dogs group and walking without dogs \n",
    "\n",
    " "
   ]
  },
  {
   "cell_type": "markdown",
   "metadata": {},
   "source": [
    "python\n",
    "# Import necessary libraries\n",
    "import pandas as pd\n",
    "\n",
    " Create a new DataFrame for walking with dogs group\n",
    "walking_with_dogs = dataset[dataset['group'] == 'walking_with_dogs']\n",
    "\n",
    "# Create a new DataFrame for walking without dogs group\n",
    "walking_without_dogs = dataset[dataset['group'] == 'walking_without_dogs']\n",
    "\n",
    "# Print the descriptive statistics for walking with dogs group\n",
    "print(\"Descriptive statistics for walking with dogs group:\")\n",
    "print(walking_with_dogs.describe())\n",
    "\n",
    "# Print the descriptive statistics for walking without dogs group\n",
    "print(\"Descriptive statistics for walking without dogs group:\")\n",
    "print(walking_without_dogs.describe())\n",
    "```"
   ]
  },
  {
   "cell_type": "code",
   "execution_count": 16,
   "metadata": {},
   "outputs": [
    {
     "data": {
      "text/plain": [
       "<bound method NDFrame.describe of    walking_with_dogs  walking_without_dogs\n",
       "0                  9                     4\n",
       "1                  7                     5\n",
       "2                 10                     3\n",
       "3                 12                     6\n",
       "4                  6                     5\n",
       "5                  8                     1>"
      ]
     },
     "execution_count": 16,
     "metadata": {},
     "output_type": "execute_result"
    }
   ],
   "source": [
    "dataset.describe"
   ]
  },
  {
   "cell_type": "code",
   "execution_count": 7,
   "metadata": {},
   "outputs": [],
   "source": [
    "summary_statistics=dataset.describe()"
   ]
  },
  {
   "cell_type": "code",
   "execution_count": 8,
   "metadata": {},
   "outputs": [
    {
     "data": {
      "text/html": [
       "<div>\n",
       "<style scoped>\n",
       "    .dataframe tbody tr th:only-of-type {\n",
       "        vertical-align: middle;\n",
       "    }\n",
       "\n",
       "    .dataframe tbody tr th {\n",
       "        vertical-align: top;\n",
       "    }\n",
       "\n",
       "    .dataframe thead th {\n",
       "        text-align: right;\n",
       "    }\n",
       "</style>\n",
       "<table border=\"1\" class=\"dataframe\">\n",
       "  <thead>\n",
       "    <tr style=\"text-align: right;\">\n",
       "      <th></th>\n",
       "      <th>walking_with_dogs</th>\n",
       "      <th>walking_without_dogs</th>\n",
       "    </tr>\n",
       "  </thead>\n",
       "  <tbody>\n",
       "    <tr>\n",
       "      <th>count</th>\n",
       "      <td>6.000000</td>\n",
       "      <td>6.000000</td>\n",
       "    </tr>\n",
       "    <tr>\n",
       "      <th>mean</th>\n",
       "      <td>8.666667</td>\n",
       "      <td>4.000000</td>\n",
       "    </tr>\n",
       "    <tr>\n",
       "      <th>std</th>\n",
       "      <td>2.160247</td>\n",
       "      <td>1.788854</td>\n",
       "    </tr>\n",
       "    <tr>\n",
       "      <th>min</th>\n",
       "      <td>6.000000</td>\n",
       "      <td>1.000000</td>\n",
       "    </tr>\n",
       "    <tr>\n",
       "      <th>25%</th>\n",
       "      <td>7.250000</td>\n",
       "      <td>3.250000</td>\n",
       "    </tr>\n",
       "    <tr>\n",
       "      <th>50%</th>\n",
       "      <td>8.500000</td>\n",
       "      <td>4.500000</td>\n",
       "    </tr>\n",
       "    <tr>\n",
       "      <th>75%</th>\n",
       "      <td>9.750000</td>\n",
       "      <td>5.000000</td>\n",
       "    </tr>\n",
       "    <tr>\n",
       "      <th>max</th>\n",
       "      <td>12.000000</td>\n",
       "      <td>6.000000</td>\n",
       "    </tr>\n",
       "  </tbody>\n",
       "</table>\n",
       "</div>"
      ],
      "text/plain": [
       "       walking_with_dogs  walking_without_dogs\n",
       "count           6.000000              6.000000\n",
       "mean            8.666667              4.000000\n",
       "std             2.160247              1.788854\n",
       "min             6.000000              1.000000\n",
       "25%             7.250000              3.250000\n",
       "50%             8.500000              4.500000\n",
       "75%             9.750000              5.000000\n",
       "max            12.000000              6.000000"
      ]
     },
     "execution_count": 8,
     "metadata": {},
     "output_type": "execute_result"
    }
   ],
   "source": [
    "summary_statistics"
   ]
  },
  {
   "cell_type": "code",
   "execution_count": 19,
   "metadata": {},
   "outputs": [],
   "source": [
    "import scipy.stats"
   ]
  },
  {
   "cell_type": "code",
   "execution_count": 0,
   "metadata": {},
   "outputs": [],
   "source": [
    "import pandas as pd\n",
    "import scipy.stats\n",
    "\n",
    "# Your dataset\n",
    "dataset = pd.DataFrame({\"wa"
   ]
  },
  {
   "cell_type": "code",
   "execution_count": 22,
   "metadata": {},
   "outputs": [
    {
     "name": "stdout",
     "output_type": "stream",
     "text": [
      "                                           walking_with_dogs  \\\n",
      "Confidence Interval  (6.399626578525909, 10.933706754807423)   \n",
      "Trimmed Mean (5%)                                   8.666667   \n",
      "Median                                                   8.5   \n",
      "Variance                                            4.666667   \n",
      "Range                                                      6   \n",
      "Interquartile Range                                      2.5   \n",
      "Skewness                                            0.338062   \n",
      "Kurtosis                                               -0.96   \n",
      "\n",
      "                                         walking_without_dogs  \n",
      "Confidence Interval  (2.1227124562307305, 5.8772875437692695)  \n",
      "Trimmed Mean (5%)                                         4.0  \n",
      "Median                                                    4.5  \n",
      "Variance                                                  3.2  \n",
      "Range                                                       5  \n",
      "Interquartile Range                                      1.75  \n",
      "Skewness                                            -0.688919  \n",
      "Kurtosis                                             -0.65625  \n"
     ]
    }
   ],
   "source": [
    "import pandas as pd\n",
    "import scipy.stats\n",
    "\n",
    "# Your dataset\n",
    "dataset = pd.DataFrame({\"walking_with_dogs\": [9, 7, 10, 12, 6, 8],\n",
    "                        \"walking_without_dogs\": [4, 5, 3, 6, 5, 1]})\n",
    "\n",
    "# Function to calculate 5% trimmed mean\n",
    "def trimmed_mean(data, trim_percent):\n",
    "    return scipy.stats.trim_mean(data, trim_percent)\n",
    "\n",
    "# Additional statistics\n",
    "summary = {}\n",
    "for column in dataset.columns:\n",
    "    confidence_interval = scipy.stats.t.interval(0.95, len(dataset[column])-1, loc=dataset[column].mean(), scale=scipy.stats.sem(dataset[column]))\n",
    "    trimmed_mean_5percent = trimmed_mean(dataset[column], 0.05)\n",
    "    median = dataset[column].median()\n",
    "    variance = dataset[column].var()\n",
    "    data_range = dataset[column].max() - dataset[column].min()\n",
    "    iqr = scipy.stats.iqr(dataset[column])\n",
    "    skewness = scipy.stats.skew(dataset[column])\n",
    "    kurtosis = scipy.stats.kurtosis(dataset[column])\n",
    "\n",
    "    stats = {\n",
    "        'Confidence Interval': confidence_interval,\n",
    "        'Trimmed Mean (5%)': trimmed_mean_5percent,\n",
    "        'Median': median,\n",
    "        'Variance': variance,\n",
    "        'Range': data_range,\n",
    "        'Interquartile Range': iqr,\n",
    "        'Skewness': skewness,\n",
    "        'Kurtosis': kurtosis\n",
    "    }\n",
    "\n",
    "    summary[column] = stats\n",
    "\n",
    "summary_statistics = pd.DataFrame(summary)\n",
    "\n",
    "print(summary_statistics)"
   ]
  },
  {
   "cell_type": "code",
   "execution_count": 23,
   "metadata": {},
   "outputs": [],
   "source": [
    "del dataset"
   ]
  },
  {
   "cell_type": "code",
   "execution_count": null,
   "metadata": {},
   "outputs": [],
   "source": []
  },
  {
   "cell_type": "code",
   "execution_count": null,
   "metadata": {},
   "outputs": [],
   "source": []
  },
  {
   "cell_type": "code",
   "execution_count": 27,
   "metadata": {},
   "outputs": [
    {
     "name": "stdout",
     "output_type": "stream",
     "text": [
      "                          mean       std min <lambda> median <lambda> max  \\\n",
      "walking_with_dogs     8.666667  2.160247   6     7.25    8.5     9.75  12   \n",
      "walking_without_dogs       4.0  1.788854   1     3.25    4.5      5.0   6   \n",
      "\n",
      "                     Trimmed Mean (5%)       var ptp <lambda> <lambda>  \\\n",
      "walking_with_dogs         (6.25, 11.5)  4.666667   6      6.0     12.0   \n",
      "walking_without_dogs       (1.5, 5.75)       3.2   5      1.0      6.0   \n",
      "\n",
      "                          skew      kurt  \n",
      "walking_with_dogs      0.46291      -0.3  \n",
      "walking_without_dogs -0.943341  0.585938  \n"
     ]
    }
   ],
   "source": []
  },
  {
   "cell_type": "code",
   "execution_count": null,
   "metadata": {},
   "outputs": [
    {
     "name": "stdout",
     "output_type": "stream",
     "text": [
      "Defaulting to user installation because normal site-packages is not writeable\n",
      "Requirement already satisfied: jupyter_ai_magics in /home/user/.local/lib/python3.10/site-packages (2.1.0)\n",
      "Requirement already satisfied: click~=8.0 in /usr/local/lib/python3.10/dist-packages (from jupyter_ai_magics) (8.1.7)\n",
      "Requirement already satisfied: importlib-metadata~=5.2.0 in /home/user/.local/lib/python3.10/site-packages (from jupyter_ai_magics) (5.2.0)\n",
      "Requirement already satisfied: ipython in /home/user/.local/lib/python3.10/site-packages (from jupyter_ai_magics) (8.14.0)\n",
      "Requirement already satisfied: jsonpath-ng~=1.5.3 in /home/user/.local/lib/python3.10/site-packages (from jupyter_ai_magics) (1.5.3)\n",
      "Requirement already satisfied: langchain==0.0.223 in /home/user/.local/lib/python3.10/site-packages (from jupyter_ai_magics) (0.0.223)\n",
      "Requirement already satisfied: pydantic in /usr/local/lib/python3.10/dist-packages (from jupyter_ai_magics) (2.4.2)\n",
      "\u001b[33mWARNING: Retrying (Retry(total=4, connect=None, read=None, redirect=None, status=None)) after connection broken by 'ConnectTimeoutError(<pip._vendor.urllib3.connection.HTTPSConnection object at 0x7fe7a79009d0>, 'Connection to pypi.org timed out. (connect timeout=15)')': /simple/typing-extensions/\u001b[0m\u001b[33m\n",
      "\u001b[0m"
     ]
    }
   ],
   "source": [
    "%pip install jupyter_ai_magics"
   ]
  },
  {
   "cell_type": "code",
   "execution_count": null,
   "metadata": {},
   "outputs": [],
   "source": [
    "%ai chatgpt\n",
    "hello world"
   ]
  },
  {
   "cell_type": "code",
   "execution_count": null,
   "metadata": {},
   "outputs": [],
   "source": []
  }
 ],
 "metadata": {
  "kernelspec": {
   "display_name": "Python 3 (system-wide)",
   "language": "python",
   "name": "python3"
  },
  "language_info": {
   "codemirror_mode": {
    "name": "ipython",
    "version": 3
   },
   "file_extension": ".py",
   "mimetype": "text/x-python",
   "name": "python",
   "nbconvert_exporter": "python",
   "pygments_lexer": "ipython3",
   "version": "3.10.12"
  }
 },
 "nbformat": 4,
 "nbformat_minor": 4
}
