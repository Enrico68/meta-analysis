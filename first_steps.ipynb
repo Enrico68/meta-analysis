{
  "nbformat": 4,
  "nbformat_minor": 0,
  "metadata": {
    "colab": {
      "provenance": [],
      "mount_file_id": "https://github.com/Enrico68/meta-analysis/blob/main/first_steps.ipynb",
      "authorship_tag": "ABX9TyM7vLmq2O8kXanDz863TjmE",
      "include_colab_link": true
    },
    "kernelspec": {
      "name": "python3",
      "display_name": "Python 3"
    },
    "language_info": {
      "name": "python"
    }
  },
  "cells": [
    {
      "cell_type": "markdown",
      "metadata": {
        "id": "view-in-github",
        "colab_type": "text"
      },
      "source": [
        "<a href=\"https://colab.research.google.com/github/Enrico68/meta-analysis/blob/main/first_steps.ipynb\" target=\"_parent\"><img src=\"https://colab.research.google.com/assets/colab-badge.svg\" alt=\"Open In Colab\"/></a>"
      ]
    },
    {
      "cell_type": "code",
      "execution_count": null,
      "metadata": {
        "id": "d18lXj6l7Q_W"
      },
      "outputs": [],
      "source": []
    },
    {
      "cell_type": "markdown",
      "source": [
        "Funzione `elevami al quadrato`\n",
        "\n",
        "\n",
        "```\n",
        "# questa funzione dimostra il quadrato del numero 0-5\n",
        "def squared (x=10):\n",
        "  return x**2\n",
        "for ii in range (6):\n",
        "  print(ii,squared (ii))\n",
        "print(squared())\n",
        "```\n",
        "\n"
      ],
      "metadata": {
        "id": "5rHOhvRG75Aa"
      }
    },
    {
      "cell_type": "code",
      "source": [
        "# @title Testo del titolo predefinito\n",
        "def squared (x=10):\n",
        "  return x**2\n",
        "for ii in range (6):\n",
        "  print(ii,squared (ii))\n",
        "print(squared())"
      ],
      "metadata": {
        "colab": {
          "base_uri": "https://localhost:8080/"
        },
        "id": "HBYMjT649BS8",
        "outputId": "8db1aad2-40a1-411b-936c-47c0439bff20"
      },
      "execution_count": 1,
      "outputs": [
        {
          "output_type": "stream",
          "name": "stdout",
          "text": [
            "0 0\n",
            "1 1\n",
            "2 4\n",
            "3 9\n",
            "4 16\n",
            "5 25\n",
            "100\n"
          ]
        }
      ]
    },
    {
      "cell_type": "code",
      "source": [
        "myList=['abc', 'def', 'ghij']\n"
      ],
      "metadata": {
        "id": "2-sbuh5-Mmif"
      },
      "execution_count": 2,
      "outputs": []
    },
    {
      "cell_type": "markdown",
      "source": [],
      "metadata": {
        "id": "sX6HI22k731S"
      }
    },
    {
      "cell_type": "code",
      "source": [
        "myList.append('klm')"
      ],
      "metadata": {
        "id": "jk4beRoqM3ZQ"
      },
      "execution_count": 3,
      "outputs": []
    },
    {
      "cell_type": "code",
      "source": [
        "myList"
      ],
      "metadata": {
        "colab": {
          "base_uri": "https://localhost:8080/"
        },
        "id": "A8PDOCyRM7zN",
        "outputId": "fbd8b315-2239-4131-f7df-e4e58a4bda51"
      },
      "execution_count": 4,
      "outputs": [
        {
          "output_type": "execute_result",
          "data": {
            "text/plain": [
              "['abc', 'def', 'ghij', 'klm']"
            ]
          },
          "metadata": {},
          "execution_count": 4
        }
      ]
    },
    {
      "cell_type": "code",
      "source": [
        "myList2=[1,2,3]\n",
        "myList3=[4,5,6]\n",
        "myList2+myList3"
      ],
      "metadata": {
        "colab": {
          "base_uri": "https://localhost:8080/"
        },
        "id": "q_pnKPNsM-ZU",
        "outputId": "84540faf-3137-4706-e0fb-4e32ad7829e5"
      },
      "execution_count": 5,
      "outputs": [
        {
          "output_type": "execute_result",
          "data": {
            "text/plain": [
              "[1, 2, 3, 4, 5, 6]"
            ]
          },
          "metadata": {},
          "execution_count": 5
        }
      ]
    },
    {
      "cell_type": "code",
      "source": [
        "import numpy as np\n",
        "myArray2=np.array(myList2)\n",
        "myArray3=np.array(myList3)\n"
      ],
      "metadata": {
        "id": "-R-YS8rZBKzP"
      },
      "execution_count": 6,
      "outputs": []
    },
    {
      "cell_type": "code",
      "source": [
        "myArray3 + myArray2"
      ],
      "metadata": {
        "colab": {
          "base_uri": "https://localhost:8080/"
        },
        "id": "ZQWCBQn4G2Tk",
        "outputId": "bc089409-8600-41fd-aa20-939bbb6e0df3"
      },
      "execution_count": 7,
      "outputs": [
        {
          "output_type": "execute_result",
          "data": {
            "text/plain": [
              "array([5, 7, 9])"
            ]
          },
          "metadata": {},
          "execution_count": 7
        }
      ]
    },
    {
      "cell_type": "code",
      "source": [
        "# Questo serve ad eseguire il prodotto scalare di un array\n",
        "myArray2.dot(myArray3)\n",
        "myArray2 @ myArray3"
      ],
      "metadata": {
        "colab": {
          "base_uri": "https://localhost:8080/"
        },
        "id": "MHSfHEgGHRVO",
        "outputId": "0e5ffa3e-9a06-4a1f-e44b-57a48ce89cd5"
      },
      "execution_count": 8,
      "outputs": [
        {
          "output_type": "execute_result",
          "data": {
            "text/plain": [
              "32"
            ]
          },
          "metadata": {},
          "execution_count": 8
        }
      ]
    },
    {
      "cell_type": "code",
      "source": [
        "myTuple=('abc', np.arange(0,3,0.2), 2.5)\n"
      ],
      "metadata": {
        "id": "JHp2DhxVHsCe"
      },
      "execution_count": 9,
      "outputs": []
    },
    {
      "cell_type": "code",
      "source": [
        "myTuple[2]"
      ],
      "metadata": {
        "colab": {
          "base_uri": "https://localhost:8080/"
        },
        "id": "Ho5KN94pOGKk",
        "outputId": "c4ac8f6a-205e-4449-eeec-341c118779a8"
      },
      "execution_count": 10,
      "outputs": [
        {
          "output_type": "execute_result",
          "data": {
            "text/plain": [
              "2.5"
            ]
          },
          "metadata": {},
          "execution_count": 10
        }
      ]
    },
    {
      "cell_type": "code",
      "source": [],
      "metadata": {
        "id": "vkbcV1msOJU4"
      },
      "execution_count": 10,
      "outputs": []
    },
    {
      "cell_type": "code",
      "source": [
        "myTuple[1]"
      ],
      "metadata": {
        "colab": {
          "base_uri": "https://localhost:8080/"
        },
        "id": "mYzQtiAeOpi6",
        "outputId": "d43554d6-3b1d-4f45-eda2-7f691ab214bb"
      },
      "execution_count": 11,
      "outputs": [
        {
          "output_type": "execute_result",
          "data": {
            "text/plain": [
              "array([0. , 0.2, 0.4, 0.6, 0.8, 1. , 1.2, 1.4, 1.6, 1.8, 2. , 2.2, 2.4,\n",
              "       2.6, 2.8])"
            ]
          },
          "metadata": {},
          "execution_count": 11
        }
      ]
    },
    {
      "cell_type": "code",
      "source": [
        "help(np.arange)"
      ],
      "metadata": {
        "colab": {
          "base_uri": "https://localhost:8080/"
        },
        "id": "5w0oOreEOsrm",
        "outputId": "40be306b-9613-4205-ef78-9fc3a710f45e"
      },
      "execution_count": 12,
      "outputs": [
        {
          "output_type": "stream",
          "name": "stdout",
          "text": [
            "Help on built-in function arange in module numpy:\n",
            "\n",
            "arange(...)\n",
            "    arange([start,] stop[, step,], dtype=None, *, like=None)\n",
            "    \n",
            "    Return evenly spaced values within a given interval.\n",
            "    \n",
            "    ``arange`` can be called with a varying number of positional arguments:\n",
            "    \n",
            "    * ``arange(stop)``: Values are generated within the half-open interval\n",
            "      ``[0, stop)`` (in other words, the interval including `start` but\n",
            "      excluding `stop`).\n",
            "    * ``arange(start, stop)``: Values are generated within the half-open\n",
            "      interval ``[start, stop)``.\n",
            "    * ``arange(start, stop, step)`` Values are generated within the half-open\n",
            "      interval ``[start, stop)``, with spacing between values given by\n",
            "      ``step``.\n",
            "    \n",
            "    For integer arguments the function is roughly equivalent to the Python\n",
            "    built-in :py:class:`range`, but returns an ndarray rather than a ``range``\n",
            "    instance.\n",
            "    \n",
            "    When using a non-integer step, such as 0.1, it is often better to use\n",
            "    `numpy.linspace`.\n",
            "    \n",
            "    See the Warning sections below for more information.\n",
            "    \n",
            "    Parameters\n",
            "    ----------\n",
            "    start : integer or real, optional\n",
            "        Start of interval.  The interval includes this value.  The default\n",
            "        start value is 0.\n",
            "    stop : integer or real\n",
            "        End of interval.  The interval does not include this value, except\n",
            "        in some cases where `step` is not an integer and floating point\n",
            "        round-off affects the length of `out`.\n",
            "    step : integer or real, optional\n",
            "        Spacing between values.  For any output `out`, this is the distance\n",
            "        between two adjacent values, ``out[i+1] - out[i]``.  The default\n",
            "        step size is 1.  If `step` is specified as a position argument,\n",
            "        `start` must also be given.\n",
            "    dtype : dtype, optional\n",
            "        The type of the output array.  If `dtype` is not given, infer the data\n",
            "        type from the other input arguments.\n",
            "    like : array_like, optional\n",
            "        Reference object to allow the creation of arrays which are not\n",
            "        NumPy arrays. If an array-like passed in as ``like`` supports\n",
            "        the ``__array_function__`` protocol, the result will be defined\n",
            "        by it. In this case, it ensures the creation of an array object\n",
            "        compatible with that passed in via this argument.\n",
            "    \n",
            "        .. versionadded:: 1.20.0\n",
            "    \n",
            "    Returns\n",
            "    -------\n",
            "    arange : ndarray\n",
            "        Array of evenly spaced values.\n",
            "    \n",
            "        For floating point arguments, the length of the result is\n",
            "        ``ceil((stop - start)/step)``.  Because of floating point overflow,\n",
            "        this rule may result in the last element of `out` being greater\n",
            "        than `stop`.\n",
            "    \n",
            "    Warnings\n",
            "    --------\n",
            "    The length of the output might not be numerically stable.\n",
            "    \n",
            "    Another stability issue is due to the internal implementation of\n",
            "    `numpy.arange`.\n",
            "    The actual step value used to populate the array is\n",
            "    ``dtype(start + step) - dtype(start)`` and not `step`. Precision loss\n",
            "    can occur here, due to casting or due to using floating points when\n",
            "    `start` is much larger than `step`. This can lead to unexpected\n",
            "    behaviour. For example::\n",
            "    \n",
            "      >>> np.arange(0, 5, 0.5, dtype=int)\n",
            "      array([0, 0, 0, 0, 0, 0, 0, 0, 0, 0])\n",
            "      >>> np.arange(-3, 3, 0.5, dtype=int)\n",
            "      array([-3, -2, -1,  0,  1,  2,  3,  4,  5,  6,  7,  8])\n",
            "    \n",
            "    In such cases, the use of `numpy.linspace` should be preferred.\n",
            "    \n",
            "    The built-in :py:class:`range` generates :std:doc:`Python built-in integers\n",
            "    that have arbitrary size <c-api/long>`, while `numpy.arange` produces\n",
            "    `numpy.int32` or `numpy.int64` numbers. This may result in incorrect\n",
            "    results for large integer values::\n",
            "    \n",
            "      >>> power = 40\n",
            "      >>> modulo = 10000\n",
            "      >>> x1 = [(n ** power) % modulo for n in range(8)]\n",
            "      >>> x2 = [(n ** power) % modulo for n in np.arange(8)]\n",
            "      >>> print(x1)\n",
            "      [0, 1, 7776, 8801, 6176, 625, 6576, 4001]  # correct\n",
            "      >>> print(x2)\n",
            "      [0, 1, 7776, 7185, 0, 5969, 4816, 3361]  # incorrect\n",
            "    \n",
            "    See Also\n",
            "    --------\n",
            "    numpy.linspace : Evenly spaced numbers with careful handling of endpoints.\n",
            "    numpy.ogrid: Arrays of evenly spaced numbers in N-dimensions.\n",
            "    numpy.mgrid: Grid-shaped arrays of evenly spaced numbers in N-dimensions.\n",
            "    \n",
            "    Examples\n",
            "    --------\n",
            "    >>> np.arange(3)\n",
            "    array([0, 1, 2])\n",
            "    >>> np.arange(3.0)\n",
            "    array([ 0.,  1.,  2.])\n",
            "    >>> np.arange(3,7)\n",
            "    array([3, 4, 5, 6])\n",
            "    >>> np.arange(3,7,2)\n",
            "    array([3, 5])\n",
            "\n"
          ]
        }
      ]
    },
    {
      "cell_type": "code",
      "source": [
        "np.arange(0,5,1, dtype=int)"
      ],
      "metadata": {
        "colab": {
          "base_uri": "https://localhost:8080/"
        },
        "id": "R-iIBmDWPWAO",
        "outputId": "493195a6-7d24-4d9b-a5de-41c123dd5d6b"
      },
      "execution_count": 13,
      "outputs": [
        {
          "output_type": "execute_result",
          "data": {
            "text/plain": [
              "array([0, 1, 2, 3, 4])"
            ]
          },
          "metadata": {},
          "execution_count": 13
        }
      ]
    },
    {
      "cell_type": "code",
      "source": [
        "import pandas as pd"
      ],
      "metadata": {
        "id": "4eNbML9-P2fC"
      },
      "execution_count": 14,
      "outputs": []
    },
    {
      "cell_type": "code",
      "source": [
        "state = pd.read_csv('state.csv')"
      ],
      "metadata": {
        "id": "E1U5eqPDsMBZ"
      },
      "execution_count": 16,
      "outputs": []
    },
    {
      "cell_type": "code",
      "source": [
        "state['Population'].mean()"
      ],
      "metadata": {
        "id": "sXYLKfRcsVOE",
        "outputId": "1182b8e9-4691-44e3-f8d7-579468ec79af",
        "colab": {
          "base_uri": "https://localhost:8080/"
        }
      },
      "execution_count": 17,
      "outputs": [
        {
          "output_type": "execute_result",
          "data": {
            "text/plain": [
              "6162876.3"
            ]
          },
          "metadata": {},
          "execution_count": 17
        }
      ]
    },
    {
      "cell_type": "code",
      "source": [
        "from scipy import stats\n",
        "stats.trim_mean(state['Population'],0.1)"
      ],
      "metadata": {
        "id": "nbK6ZCLnsbxE",
        "outputId": "110069dd-914e-4e25-95e5-131e446e1372",
        "colab": {
          "base_uri": "https://localhost:8080/"
        }
      },
      "execution_count": 20,
      "outputs": [
        {
          "output_type": "execute_result",
          "data": {
            "text/plain": [
              "4783697.125"
            ]
          },
          "metadata": {},
          "execution_count": 20
        }
      ]
    },
    {
      "cell_type": "code",
      "source": [],
      "metadata": {
        "id": "67AoQX7KtEr9"
      },
      "execution_count": null,
      "outputs": []
    }
  ]
}