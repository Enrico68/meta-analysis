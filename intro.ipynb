{
 "cells": [
  {
   "cell_type": "markdown",
   "id": "92e4132f",
   "metadata": {},
   "source": [
    "---\n",
    "title: \"Introduzione\"\n",
    "author: \"Enrico Pirani\"\n",
    "bibliography: \"references.bib\"\n",
    "biblio-style: apalike\n",
    "language: \"it\"\n",
    "output:\n",
    "     bookdown::html_document2\n",
    "date: \"2 Settembre 2023\"\n",
    "---\n",
    "\n",
    "## Il sonno del neonato: la tragica storia della morte in culla\n",
    "\n",
    "In Baby and Child Care, il libro più venduto del Dr. Benjamin Spock, si legge:\n",
    "\n",
    ">\"Penso che sia preferibile abituare un bambino a dormire sulla pancia fin dall'inizio se è disposto\". \n",
    "\n",
    "Questa affermazione è stata inclusa nella maggior parte delle edizioni del libro e nella maggior parte delle 50 milioni di copie vendute dagli anni '50 agli anni '90. Il consiglio non era insolito, dal momento che molti pediatri facevano raccomandazioni simili all'epoca.\n",
    "\n",
    "Durante lo stesso periodo, dagli anni '50 agli anni '90, più di 100.000 bambini sono morti improvvisamente di sindrome della morte improvvisa del lattante (*SIDS*), chiamata anche morte in culla negli Stati Uniti e morte in culla nel Regno Unito, dove un bambino apparentemente sano va a dormire e non si sveglia mai più.\n",
    "\n",
    "All'inizio degli anni '90, i ricercatori si resero conto che il rischio di SIDS diminuiva di almeno il 50% quando i bambini venivano messi a dormire sulla schiena anziché a faccia in giù. I governi di vari paesi lanciarono iniziative educative come le campagne *Back to sleep* nel Regno Unito e negli Stati Uniti, che portarono a una diminuzione immediata e drammatica del numero di morti per SIDS.\n",
    "\n",
    "Mentre la perdita di oltre 100.000 bambini sarebbe indicibilmente triste in ogni caso, la vera tragedia sta nel fatto che molte di queste morti avrebbero potuto essere prevenute. \n",
    "[@Gilbert2005Aug] scrivono \n",
    "\n",
    "> \"Il consiglio di far dormire i neonati sulla pancia per quasi mezzo secolo era contrario alle prove disponibili dal 1970 che questo era probabilmente dannoso. Una revisione sistematica dei fattori di rischio evitabili per la SIDS dal 1970 avrebbe portato a una precedente riconoscimento dei rischi del sonno sulla pancia e potrebbe aver impedito oltre 10.000 morti infantili\". [@10.1201/9781003107347]"
   ]
  }
 ],
 "metadata": {},
 "nbformat": 4,
 "nbformat_minor": 5
}
